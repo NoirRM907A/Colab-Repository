{
  "nbformat": 4,
  "nbformat_minor": 0,
  "metadata": {
    "colab": {
      "provenance": [],
      "authorship_tag": "ABX9TyNrEx/yzjLn8vmrjzOvyADk",
      "include_colab_link": true
    },
    "kernelspec": {
      "name": "python3",
      "display_name": "Python 3"
    },
    "language_info": {
      "name": "python"
    }
  },
  "cells": [
    {
      "cell_type": "markdown",
      "metadata": {
        "id": "view-in-github",
        "colab_type": "text"
      },
      "source": [
        "<a href=\"https://colab.research.google.com/github/NoirRM907A/Colab-Repository/blob/others/Ejercicios.ipynb\" target=\"_parent\"><img src=\"https://colab.research.google.com/assets/colab-badge.svg\" alt=\"Open In Colab\"/></a>"
      ]
    },
    {
      "cell_type": "code",
      "execution_count": null,
      "metadata": {
        "id": "pNDfi6HIwTuZ"
      },
      "outputs": [],
      "source": [
        "# BÁSICO"
      ]
    },
    {
      "cell_type": "code",
      "source": [
        "# Exercise 1\n",
        "num1 = float(input(\"Enter the first number: \"))\n",
        "num2 = float(input(\"Enter the second number: \"))\n",
        "\n",
        "sum = num1 + num2\n",
        "subst = num1 - num2\n",
        "mult = num1 * num2\n",
        "div = num1 / num2\n",
        "mod = num1 % num2\n",
        "\n",
        "print(\"Results are: \", \"\\nAddition: \",sum, \"\\nSubstract: \",subst, \"\\nMultiplication\",mult, \"\\nDivision: \",div, \"\\nModule: \",mod )\n"
      ],
      "metadata": {
        "colab": {
          "base_uri": "https://localhost:8080/"
        },
        "id": "KwtgYjDxxGIi",
        "outputId": "a51e503c-aadd-4b47-e3cb-32e828674e76"
      },
      "execution_count": null,
      "outputs": [
        {
          "output_type": "stream",
          "name": "stdout",
          "text": [
            "Enter the first number: 2\n",
            "Enter the second number: 3\n",
            "Results are:  \n",
            "Addition:  5.0 \n",
            "Substract:  -1.0 \n",
            "Multiplication 6.0 \n",
            "Division:  0.6666666666666666 \n",
            "Module:  2.0\n"
          ]
        }
      ]
    },
    {
      "cell_type": "code",
      "source": [
        "# Exercise 2\n",
        "price = float(input(\"Enter the price: \"))\n",
        "pay = float(input(\"Enter the pay: \"))\n",
        "exchange = pay - price\n",
        "missing = price - pay\n",
        "\n",
        "if (exchange < 0):\n",
        "    print(\"Money is missing, there is missing: \", missing)\n",
        "elif (exchange == 0):\n",
        "    print(\"The payment is correct\")\n",
        "elif (exchange > 0):\n",
        "    print(\"The exchange to give is: \", exchange)"
      ],
      "metadata": {
        "colab": {
          "base_uri": "https://localhost:8080/"
        },
        "id": "c8o60tVn59CZ",
        "outputId": "21e7dacb-cea0-4b65-8157-312a81accf42"
      },
      "execution_count": null,
      "outputs": [
        {
          "output_type": "stream",
          "name": "stdout",
          "text": [
            "Enter the price: 45000\n",
            "Enter the pay: 6000000\n",
            "The exchange  to give is:  5955000.0\n"
          ]
        }
      ]
    },
    {
      "cell_type": "code",
      "source": [
        "# Exercise 3\n",
        "import math\n",
        "\n",
        "radius = float(input(\"Enter the radius: \"))\n",
        "\n",
        "area = math.pi * math.pow(radius, 2)\n",
        "length = 2 * math.pi * radius\n",
        "\n",
        "print(\"The results are: \", \"\\nArea: \", area, \"\\nLength: \", length)"
      ],
      "metadata": {
        "colab": {
          "base_uri": "https://localhost:8080/"
        },
        "id": "udZOuuS1V9W9",
        "outputId": "06914d27-ec77-49e7-e51e-8fefb5af3cdb"
      },
      "execution_count": null,
      "outputs": [
        {
          "output_type": "stream",
          "name": "stdout",
          "text": [
            "Enter the radius: 56\n",
            "The results are:  \n",
            "Area:  9852.03456165759 \n",
            "Length:  351.85837720205683\n"
          ]
        }
      ]
    }
  ]
}