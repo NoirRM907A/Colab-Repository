{
  "nbformat": 4,
  "nbformat_minor": 0,
  "metadata": {
    "colab": {
      "provenance": [],
      "authorship_tag": "ABX9TyPGXFBsMVq6+X8T0bo8MYhJ",
      "include_colab_link": true
    },
    "kernelspec": {
      "name": "python3",
      "display_name": "Python 3"
    },
    "language_info": {
      "name": "python"
    }
  },
  "cells": [
    {
      "cell_type": "markdown",
      "metadata": {
        "id": "view-in-github",
        "colab_type": "text"
      },
      "source": [
        "<a href=\"https://colab.research.google.com/github/NoirRM907A/Colab-Repository/blob/EIF50815-Introducci%C3%B3n-An%C3%A1lisis-de-Datos/Intro_Datos.ipynb\" target=\"_parent\"><img src=\"https://colab.research.google.com/assets/colab-badge.svg\" alt=\"Open In Colab\"/></a>"
      ]
    },
    {
      "cell_type": "code",
      "execution_count": null,
      "metadata": {
        "colab": {
          "base_uri": "https://localhost:8080/"
        },
        "id": "yrexcoQYEhpM",
        "outputId": "d9625a48-9b8d-4856-c608-6aaa2940803b"
      },
      "outputs": [
        {
          "output_type": "stream",
          "name": "stdout",
          "text": [
            "Hola Mundo\n"
          ]
        }
      ],
      "source": [
        "print(\"Hola Mundo\")"
      ]
    },
    {
      "cell_type": "code",
      "source": [
        "import math as mt\n",
        "\n",
        "def ecuacion(a,b,c):\n",
        "  delta = b**2-4*a*c\n",
        "  if delta > 0:\n",
        "    deltaPlus = -(b+mt.sqrt(delta))/(2*a)\n",
        "    deltaMinus = -(b-mt.sqrt(delta))/(2*a)\n",
        "    print(\"La ecuacion tiene 2 soluciones: \" + str(deltaPlus) + \" y \" + str(int(deltaMinus))) \n",
        "  if delta == 0:\n",
        "    deltaPlus = -(b+mt.sqrt(delta))/(2*a)\n",
        "    print(\"La ecuacion tiene 1 solucion: \" + str(deltaPlus)) \n",
        "  if delta < 0:\n",
        "    print(\"La ecuacion no posee solucion\")\n",
        "    \n",
        "\n",
        "ecuacion(4, -6, 2)\n",
        "\n",
        "\n"
      ],
      "metadata": {
        "id": "oQCEB5xuqMCx",
        "colab": {
          "base_uri": "https://localhost:8080/"
        },
        "outputId": "1749b9fe-5cfd-4356-d4df-7ff1647a7e6a"
      },
      "execution_count": null,
      "outputs": [
        {
          "output_type": "stream",
          "name": "stdout",
          "text": [
            "La ecuacion tiene 2 soluciones: 0.5 y 1\n"
          ]
        }
      ]
    }
  ]
}