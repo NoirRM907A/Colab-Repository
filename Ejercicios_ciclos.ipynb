{
  "nbformat": 4,
  "nbformat_minor": 0,
  "metadata": {
    "colab": {
      "provenance": [],
      "authorship_tag": "ABX9TyM2Bhc/Uz7lBtqUfODLt/sZ",
      "include_colab_link": true
    },
    "kernelspec": {
      "name": "python3",
      "display_name": "Python 3"
    },
    "language_info": {
      "name": "python"
    }
  },
  "cells": [
    {
      "cell_type": "markdown",
      "metadata": {
        "id": "view-in-github",
        "colab_type": "text"
      },
      "source": [
        "<a href=\"https://colab.research.google.com/github/NoirRM907A/Colab-Repository/blob/data-analysis/Ejercicios_ciclos.ipynb\" target=\"_parent\"><img src=\"https://colab.research.google.com/assets/colab-badge.svg\" alt=\"Open In Colab\"/></a>"
      ]
    },
    {
      "cell_type": "code",
      "execution_count": null,
      "metadata": {
        "colab": {
          "base_uri": "https://localhost:8080/"
        },
        "id": "OHxIdocpIkP1",
        "outputId": "248fef60-12b2-4bee-831d-f2af02030f4a"
      },
      "outputs": [
        {
          "name": "stdout",
          "output_type": "stream",
          "text": [
            "Digite un número: \n",
            "Número: 12\n",
            "28\n",
            "Número: 3\n",
            "4\n",
            "Número: 0\n"
          ]
        }
      ],
      "source": [
        "print(\"Digite un número: \")\n",
        "numero=int(input(\"Número: \"))\n",
        "\n",
        "while numero>0:\n",
        "    suma=0\n",
        "    for i in range(1, numero+1):\n",
        "        if(numero % i == 0):\n",
        "            suma = suma + i\n",
        "    print(suma)   \n",
        "    numero=int(input(\"Número: \")) "
      ]
    }
  ]
}