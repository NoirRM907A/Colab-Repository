{
  "nbformat": 4,
  "nbformat_minor": 0,
  "metadata": {
    "colab": {
      "provenance": [],
      "authorship_tag": "ABX9TyN+psvYohSdsk+Jsr6aQkJ0",
      "include_colab_link": true
    },
    "kernelspec": {
      "name": "python3",
      "display_name": "Python 3"
    },
    "language_info": {
      "name": "python"
    }
  },
  "cells": [
    {
      "cell_type": "markdown",
      "metadata": {
        "id": "view-in-github",
        "colab_type": "text"
      },
      "source": [
        "<a href=\"https://colab.research.google.com/github/NoirRM907A/Colab-Repository/blob/data-analysis/Ejercicio_Meses_switch.ipynb\" target=\"_parent\"><img src=\"https://colab.research.google.com/assets/colab-badge.svg\" alt=\"Open In Colab\"/></a>"
      ]
    },
    {
      "cell_type": "code",
      "execution_count": null,
      "metadata": {
        "colab": {
          "base_uri": "https://localhost:8080/"
        },
        "id": "uuGRt9nUCkSX",
        "outputId": "9da0c2ea-f6b7-4c51-beb6-d542a57b7794"
      },
      "outputs": [
        {
          "output_type": "stream",
          "name": "stdout",
          "text": [
            "Ingrese un número: 6\n",
            "Junio\n"
          ]
        }
      ],
      "source": [
        "#Switch Usando un diccionario\n",
        "switcher={1: \"Enero\",\n",
        "          2: \"Febrero\",\n",
        "          3: \"Marzo\",\n",
        "          4: \"Abril\",\n",
        "          5: \"Mayo\",\n",
        "          6: \"Junio\",\n",
        "          7: \"Julio\",\n",
        "          8: \"Agosto\",\n",
        "          9: \"Setiembre\",\n",
        "          10: \"Octubre\",\n",
        "          11: \"Noviembre\",\n",
        "          12: \"Diciembre\"}\n",
        "argument=int(input(\"Ingrese un número: \"))\n",
        "nombreMes=switcher.get(argument, \"Mes Invalido\")\n",
        "print(nombreMes)\n",
        "#NOTA: Método (.get): evalua lo que tiene dentro de argument (diccionario) // .get(\"lo que evalua\", \"caso default\")\n"
      ]
    }
  ]
}