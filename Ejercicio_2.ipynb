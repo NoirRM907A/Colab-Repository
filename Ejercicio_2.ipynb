{
  "nbformat": 4,
  "nbformat_minor": 0,
  "metadata": {
    "colab": {
      "provenance": [],
      "authorship_tag": "ABX9TyPT+1ZYhK4iaSZJ1pr9wxME",
      "include_colab_link": true
    },
    "kernelspec": {
      "name": "python3",
      "display_name": "Python 3"
    },
    "language_info": {
      "name": "python"
    }
  },
  "cells": [
    {
      "cell_type": "markdown",
      "metadata": {
        "id": "view-in-github",
        "colab_type": "text"
      },
      "source": [
        "<a href=\"https://colab.research.google.com/github/NoirRM907A/Colab-Repository/blob/EIF50815-Introducci%C3%B3n-An%C3%A1lisis-de-Datos/Ejercicio_2.ipynb\" target=\"_parent\"><img src=\"https://colab.research.google.com/assets/colab-badge.svg\" alt=\"Open In Colab\"/></a>"
      ]
    },
    {
      "cell_type": "code",
      "execution_count": null,
      "metadata": {
        "colab": {
          "base_uri": "https://localhost:8080/"
        },
        "id": "vBMbqxVSbwCD",
        "outputId": "29cb386c-a30d-436e-84d7-e0ab28e6960d"
      },
      "outputs": [
        {
          "output_type": "stream",
          "name": "stdout",
          "text": [
            "          name  type\n",
            "pet_id              \n",
            "71      Minino  gato\n",
            "29000\n",
            "1000\n",
            "10000\n",
            "          pet_id       fecha  costo\n",
            "visit_id                           \n",
            "0             42  2019-03-05   2000\n",
            "1             31  2019-03-05   5000\n",
            "2             71  2019-04-05   1000\n",
            "3             42  2019-04-12   5000\n",
            "4             98  2019-09-24   6000\n",
            "5             42  2019-06-03  10000\n",
            "          pet_id       fecha  costo\n",
            "visit_id                           \n",
            "5             42  2019-06-03  10000\n",
            "4             98  2019-09-24   6000\n",
            "1             31  2019-03-05   5000\n",
            "3             42  2019-04-12   5000\n",
            "0             42  2019-03-05   2000\n",
            "2             71  2019-04-05   1000\n",
            "          name     type  pet_id       fecha  costo\n",
            "0       Minino     gato      42  2019-03-05   2000\n",
            "1       Minino     gato      31  2019-03-05   5000\n",
            "2       Minino     gato      71  2019-04-05   1000\n",
            "3       Minino     gato      42  2019-04-12   5000\n",
            "4       Minino     gato      98  2019-09-24   6000\n",
            "5       Minino     gato      42  2019-06-03  10000\n",
            "6         Milo    perro      42  2019-03-05   2000\n",
            "7         Milo    perro      31  2019-03-05   5000\n",
            "8         Milo    perro      71  2019-04-05   1000\n",
            "9         Milo    perro      42  2019-04-12   5000\n",
            "10        Milo    perro      98  2019-09-24   6000\n",
            "11        Milo    perro      42  2019-06-03  10000\n",
            "12      Snoopy    perro      42  2019-03-05   2000\n",
            "13      Snoopy    perro      31  2019-03-05   5000\n",
            "14      Snoopy    perro      71  2019-04-05   1000\n",
            "15      Snoopy    perro      42  2019-04-12   5000\n",
            "16      Snoopy    perro      98  2019-09-24   6000\n",
            "17      Snoopy    perro      42  2019-06-03  10000\n",
            "18      Blanco    perro      42  2019-03-05   2000\n",
            "19      Blanco    perro      31  2019-03-05   5000\n",
            "20      Blanco    perro      71  2019-04-05   1000\n",
            "21      Blanco    perro      42  2019-04-12   5000\n",
            "22      Blanco    perro      98  2019-09-24   6000\n",
            "23      Blanco    perro      42  2019-06-03  10000\n",
            "24  LittlePony  caballo      42  2019-03-05   2000\n",
            "25  LittlePony  caballo      31  2019-03-05   5000\n",
            "26  LittlePony  caballo      71  2019-04-05   1000\n",
            "27  LittlePony  caballo      42  2019-04-12   5000\n",
            "28  LittlePony  caballo      98  2019-09-24   6000\n",
            "29  LittlePony  caballo      42  2019-06-03  10000\n"
          ]
        }
      ],
      "source": [
        "import pandas as pd\n",
        "\n",
        "mascota = pd.DataFrame(\n",
        "    data={\n",
        "        'name': ['Minino','Milo','Snoopy','Blanco','LittlePony'],\n",
        "        'type': ['gato', 'perro','perro','perro','caballo']\n",
        "    },\n",
        "    index=[71,42,11,98,42]\n",
        ")\n",
        "\n",
        "visitas = pd.DataFrame(\n",
        "    data={\n",
        "        'pet_id': [42,31,71,42,98,42],\n",
        "        'fecha': ['2019-03-05','2019-03-05','2019-04-05','2019-04-12','2019-09-24','2019-06-03'],\n",
        "        'costo': [2000, 5000, 1000, 5000, 6000, 10000]\n",
        "    }\n",
        ")\n",
        "\n",
        "mascota.index.rename('pet_id', inplace=True)\n",
        "visitas.index.rename('visit_id', inplace=True)\n",
        "\n",
        "print(mascota.query('pet_id==71'))\n",
        "print(visitas['costo'].sum())\n",
        "print(visitas['costo'].min())\n",
        "print(visitas['costo'].max())\n",
        "\n",
        "print(visitas)\n",
        "print(visitas.sort_values(by='costo', ascending=False))\n",
        "\n",
        "tienda=pd.merge(mascota, visitas, how='cross')\n",
        "print(tienda)"
      ]
    }
  ]
}