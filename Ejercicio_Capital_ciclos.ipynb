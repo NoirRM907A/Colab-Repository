{
  "nbformat": 4,
  "nbformat_minor": 0,
  "metadata": {
    "colab": {
      "provenance": [],
      "authorship_tag": "ABX9TyPcBoj9zUm3Ars2jLmZMIpj",
      "include_colab_link": true
    },
    "kernelspec": {
      "name": "python3",
      "display_name": "Python 3"
    },
    "language_info": {
      "name": "python"
    }
  },
  "cells": [
    {
      "cell_type": "markdown",
      "metadata": {
        "id": "view-in-github",
        "colab_type": "text"
      },
      "source": [
        "<a href=\"https://colab.research.google.com/github/NoirRM907A/Colab-Repository/blob/EIF50815-Introducci%C3%B3n-An%C3%A1lisis-de-Datos/Ejercicio_Capital_ciclos.ipynb\" target=\"_parent\"><img src=\"https://colab.research.google.com/assets/colab-badge.svg\" alt=\"Open In Colab\"/></a>"
      ]
    },
    {
      "cell_type": "code",
      "execution_count": null,
      "metadata": {
        "colab": {
          "base_uri": "https://localhost:8080/"
        },
        "id": "AGoagMUoFOE6",
        "outputId": "d8331d4c-99d9-4673-8621-b56eb10d9b19"
      },
      "outputs": [
        {
          "output_type": "stream",
          "name": "stdout",
          "text": [
            "Introduce el Capital, el Interes y el tiempo apropiados\n",
            "Capital: 1000\n",
            "Interes: 10\n",
            "Tiempos en Años: 5\n",
            "Monto  1100.0  Colones\n",
            "Monto  1210.0  Colones\n",
            "Monto  1331.0  Colones\n",
            "Monto  1464.1000000000001  Colones\n",
            "Monto  1610.5100000000002  Colones\n"
          ]
        }
      ],
      "source": [
        "#Creación de Variables\n",
        "C=-1\n",
        "I=0\n",
        "M=0\n",
        "while(C<0) or (I<=0) or (I>=100) or (M<=0):\n",
        "        print(\"Introduce el Capital, el Interes y el tiempo apropiados\")\n",
        "        C=int(input(\"Capital: \"))\n",
        "        I=int(input(\"Interes: \"))\n",
        "        M=int(input(\"Tiempos en Años: \"))\n",
        "for i in range(M):\n",
        "    C=C*(1+ I/100)\n",
        "    print(\"Monto \", C, \" Colones\")\n"
      ]
    }
  ]
}