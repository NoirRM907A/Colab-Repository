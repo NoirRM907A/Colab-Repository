{
  "nbformat": 4,
  "nbformat_minor": 0,
  "metadata": {
    "colab": {
      "provenance": [],
      "authorship_tag": "ABX9TyN6rcCHznp0+yt3wcP+56gR",
      "include_colab_link": true
    },
    "kernelspec": {
      "name": "python3",
      "display_name": "Python 3"
    },
    "language_info": {
      "name": "python"
    }
  },
  "cells": [
    {
      "cell_type": "markdown",
      "metadata": {
        "id": "view-in-github",
        "colab_type": "text"
      },
      "source": [
        "<a href=\"https://colab.research.google.com/github/NoirRM907A/Colab-Repository/blob/EIF50815-Introducci%C3%B3n-An%C3%A1lisis-de-Datos/Ejercicio1_(16_03_23)noelmunozramirez.ipynb\" target=\"_parent\"><img src=\"https://colab.research.google.com/assets/colab-badge.svg\" alt=\"Open In Colab\"/></a>"
      ]
    },
    {
      "cell_type": "code",
      "execution_count": null,
      "metadata": {
        "colab": {
          "base_uri": "https://localhost:8080/"
        },
        "id": "Fp-RynxM2mJD",
        "outputId": "f05821dd-8bb7-413a-cd48-fc7fb61fa067"
      },
      "outputs": [
        {
          "output_type": "stream",
          "name": "stdout",
          "text": [
            "--------------------------------------------------------\n",
            "Ejemplo2: IMPRIMIR EL MENOR DE DOS NÚMEROS\n",
            "--------------------------------------------------------\n",
            "Ingrese 2 Números\n",
            "Primer Número: 4\n",
            "Segundo Número: 4\n",
            "\n",
            "SALIDA: \n",
            "--------------------------------------------------------\n",
            "Ambos valores son iguales\n"
          ]
        }
      ],
      "source": [
        "#Decoración del Algoritmo\n",
        "print(\"--------------------------------------------------------\")\n",
        "print(\"Ejemplo2: IMPRIMIR EL MENOR DE DOS NÚMEROS\")\n",
        "print(\"--------------------------------------------------------\")\n",
        "#Entradas\n",
        "print(\"Ingrese 2 Números\")\n",
        "x = int(input(\"Primer Número: \"))\n",
        "y = int(input(\"Segundo Número: \"))\n",
        "print(\"\\nSALIDA: \")\n",
        "print(\"--------------------------------------------------------\")\n",
        "#NOTA: No olvidarse de las indentaciones\n",
        "if x > y:\n",
        "#Esto esta dentro del IF\n",
        "    print(\"El menor es: \", y)\n",
        "if x == y:\n",
        "    print(\"Ambos valores son iguales\")    \n",
        "else:\n",
        "#Esto esta dentro del ELSE \n",
        "    print(\"El menor es: \", x)\n"
      ]
    },
    {
      "cell_type": "code",
      "source": [
        "#Switch Usando un diccionario\n",
        "switcher={1: \"Enero\",\n",
        "          2: \"Febrero\",\n",
        "          3: \"Marzo\",\n",
        "          4: \"Abril\",\n",
        "          5: \"Mayo\",\n",
        "          6: \"Junio\",\n",
        "          7: \"Julio\",\n",
        "          8: \"Agosto\",\n",
        "          9: \"Setiembre\",\n",
        "          10: \"Octubre\",\n",
        "          11: \"Noviembre\",\n",
        "          12: \"Diciembre\"}\n",
        "argument=int(input(\"Ingrese un número: \"))\n",
        "nombreMes=switcher.get(argument, \"Mes Invalido\")\n",
        "print(nombreMes)\n",
        "#NOTA: Método (.get): evalua lo que tiene dentro de argument (diccionario) // .get(\"lo que evalua\", \"caso default\")\n"
      ],
      "metadata": {
        "id": "dtW7ksMJO5mT"
      },
      "execution_count": null,
      "outputs": []
    },
    {
      "cell_type": "code",
      "source": [
        "print(\"Ejercicio Año Bisiesto\")\n",
        "annio = int(input(\"Ingrese el año: \"))\n",
        "if (annio%400 == 0) or (annio%4 == 0) and (annio%100 != 0):\n",
        "  print(\"El Año es bisiesto\")\n",
        "else:\n",
        "  print(\"El año NO es bisiesto\")"
      ],
      "metadata": {
        "id": "LVRohQHPPGOQ"
      },
      "execution_count": null,
      "outputs": []
    },
    {
      "cell_type": "code",
      "source": [],
      "metadata": {
        "id": "fjyF4UsI3mY9"
      },
      "execution_count": null,
      "outputs": []
    }
  ]
}